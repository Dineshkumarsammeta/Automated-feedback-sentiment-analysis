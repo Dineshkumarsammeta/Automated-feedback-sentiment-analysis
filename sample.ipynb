
# Generate Sample Hospital Feedback Data

import pandas as pd
import numpy as np

np.random.seed(42)

data = {
    'FeedbackID': np.arange(1000),
    'Age': np.random.randint(18, 90, 1000),
    'Department': np.random.choice(['Emergency', 'Cardiology', 'Orthopedics', 'Pediatrics', 'Oncology'], 1000),
    'WaitTime': np.random.randint(5, 180, 1000),  # in minutes
    'TreatmentSatisfaction': np.random.randint(1, 6, 1000),  # 1 = Poor, 5 = Excellent
    'StaffCourtesy': np.random.randint(1, 6, 1000),
    'Cleanliness': np.random.randint(1, 6, 1000),
    'OverallRating': np.random.randint(1, 6, 1000),  # final rating
    'WouldRecommend': np.random.choice([0, 1], 1000, p=[0.2, 0.8])  # 80% recommend
}

df = pd.DataFrame(data)
df.to_csv('hospital_feedback.csv', index=False)


# Load Data & Check

df = pd.read_csv('hospital_feedback.csv')
print(df.head())
print("\nMissing values:\n", df.isnull().sum())


# Encode categorical (Department)

df = pd.get_dummies(df, columns=['Department'], drop_first=True)

# Create a Satisfaction Tier

df['SatisfactionTier'] = pd.cut(df['OverallRating'],
                                bins=[0, 2, 3, 4, 5],
                                labels=['Poor', 'Fair', 'Good', 'Excellent'])
print(df[['OverallRating', 'SatisfactionTier']].head())


# Data Visualization

import matplotlib.pyplot as plt
import seaborn as sns

# Distribution of Overall Rating
sns.histplot(df['OverallRating'], bins=5, kde=False)
plt.title('Distribution of Overall Ratings')
plt.show()

# Wait Time vs Overall Rating
sns.scatterplot(data=df, x='WaitTime', y='OverallRating', hue='WouldRecommend', alpha=0.6)
plt.title('Wait Time vs Patient Overall Rating')
plt.show()

# Average rating by department
avg_rating_by_dept = pd.read_csv('hospital_feedback.csv').groupby('Department')['OverallRating'].mean().sort_values()
sns.barplot(x=avg_rating_by_dept.values, y=avg_rating_by_dept.index)
plt.title('Average Rating by Department')
plt.show()

# Recommendation rate by Satisfaction Tier
sns.barplot(data=df, x='SatisfactionTier', y='WouldRecommend', estimator=np.mean)
plt.title('Recommendation Rate by Satisfaction Tier')
plt.show()

# Correlation heatmap
corr = df[['Age', 'WaitTime', 'TreatmentSatisfaction', 'StaffCourtesy', 'Cleanliness', 'OverallRating', 'WouldRecommend']].corr()
sns.heatmap(corr, annot=True, cmap='coolwarm')
plt.title('Correlation Heatmap')
plt.show()


# Predictive Modeling

from sklearn.model_selection import train_test_split
from sklearn.linear_model import LogisticRegression
from sklearn.metrics import accuracy_score

# Features and Target
X = df[['Age', 'WaitTime', 'TreatmentSatisfaction', 'StaffCourtesy', 'Cleanliness']]
y = df['WouldRecommend']

# Train-test split
X_train, X_test, y_train, y_test = train_test_split(X, y, test_size=0.2, random_state=42)

# Logistic Regression Model
model = LogisticRegression(max_iter=500)
model.fit(X_train, y_train)

# Evaluate
y_pred = model.predict(X_test)
print(f"Recommendation Prediction Accuracy: {accuracy_score(y_test, y_pred):.2f}")
